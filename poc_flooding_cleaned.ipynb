{
 "cells": [
  {
   "cell_type": "code",
   "execution_count": 1,
   "id": "ba2e1835",
   "metadata": {},
   "outputs": [],
   "source": [
    "import duckdb\n",
    "import rasterio\n",
    "import os\n",
    "from keplergl import KeplerGl\n",
    "import pandas as pd\n",
    "import shapely\n",
    "from rasterstats import zonal_stats, point_query\n",
    "from concurrent.futures import ThreadPoolExecutor"
   ]
  },
  {
   "cell_type": "code",
   "execution_count": 2,
   "id": "a7004891",
   "metadata": {},
   "outputs": [],
   "source": [
    "RES = 8 # can go till 11 but after we will have <2 samples per cell I think\n",
    "OVERTURE_VERSION = \"2025-08-20.0\""
   ]
  },
  {
   "cell_type": "code",
   "execution_count": 3,
   "id": "3f6c6b26",
   "metadata": {},
   "outputs": [],
   "source": [
    "con = duckdb.connect()\n",
    "con.install_extension(\"spatial\")\n",
    "con.load_extension(\"spatial\")\n",
    "\n",
    "con.install_extension(\"h3\", repository=\"community\")\n",
    "con.load_extension(\"h3\")\n"
   ]
  },
  {
   "cell_type": "code",
   "execution_count": 4,
   "id": "388501d4",
   "metadata": {},
   "outputs": [],
   "source": [
    "if not os.path.exists(\"overture_country_pk.parquet\"):\n",
    "    con.sql(f\"\"\"\n",
    "        COPY(\n",
    "        SELECT\n",
    "            *\n",
    "        FROM\n",
    "            read_parquet('s3://overturemaps-us-west-2/release/{OVERTURE_VERSION}/theme=divisions/type=division_area/*', hive_partitioning=1)\n",
    "        WHERE\n",
    "            subtype = 'country'\n",
    "            AND country = 'PK'\n",
    "        ) TO 'overture_country_pk.parquet'\n",
    "    \"\"\")"
   ]
  },
  {
   "cell_type": "code",
   "execution_count": 5,
   "id": "3e5997ae",
   "metadata": {},
   "outputs": [
    {
     "name": "stdout",
     "output_type": "stream",
     "text": [
      "User Guide: https://docs.kepler.gl/docs/keplergl-jupyter\n"
     ]
    }
   ],
   "source": [
    "# Load the parquet file into a pandas DataFrame\n",
    "df = con.sql(\"SELECT *, ST_AsText(geometry) as geom FROM 'overture_country_pk.parquet'\").df()\n",
    "\n",
    "# Visualize in KeplerGl\n",
    "map_1 = KeplerGl(height=800)\n",
    "map_1.add_data(data=df[[\"geom\"]], name=\"PK Country\")\n"
   ]
  },
  {
   "cell_type": "code",
   "execution_count": 6,
   "id": "4a95334f",
   "metadata": {},
   "outputs": [
    {
     "name": "stdout",
     "output_type": "stream",
     "text": [
      "download: s3://glo-30-hand/v1/2021/glo-30-hand.geojson to ./glo-30-hand.geojson\n"
     ]
    }
   ],
   "source": [
    "# Download the GLO-30 hand geojson file\n",
    "!aws s3 cp --no-sign-request s3://glo-30-hand/v1/2021/glo-30-hand.geojson ./"
   ]
  },
  {
   "cell_type": "code",
   "execution_count": 7,
   "id": "3893068c",
   "metadata": {},
   "outputs": [
    {
     "name": "stdout",
     "output_type": "stream",
     "text": [
      "┌─────────────────────────────────────────────────────────────────────────────────────────────────────────────────────┬───────────────────────────────────────────────────────────────────────────────────────────────────────────────┐\n",
      "│                                                        geom                                                         │                                                   file_path                                                   │\n",
      "│                                                      geometry                                                       │                                                    varchar                                                    │\n",
      "├─────────────────────────────────────────────────────────────────────────────────────────────────────────────────────┼───────────────────────────────────────────────────────────────────────────────────────────────────────────────┤\n",
      "│ POLYGON ((73.999861 35.000139, 73.999861 34.000139, 74.999861 34.000139, 74.999861 35.000139, 73.999861 35.000139)) │ /vsicurl/https://glo-30-hand.s3-us-west-2.amazonaws.com/v1/2021/Copernicus_DSM_COG_10_N34_00_E074_00_HAND.tif │\n",
      "│ POLYGON ((77.999861 36.000139, 77.999861 35.000139, 78.999861 35.000139, 78.999861 36.000139, 77.999861 36.000139)) │ /vsicurl/https://glo-30-hand.s3-us-west-2.amazonaws.com/v1/2021/Copernicus_DSM_COG_10_N35_00_E078_00_HAND.tif │\n",
      "│ POLYGON ((63.999861 28.000139, 63.999861 27.000139, 64.999861 27.000139, 64.999861 28.000139, 63.999861 28.000139)) │ /vsicurl/https://glo-30-hand.s3-us-west-2.amazonaws.com/v1/2021/Copernicus_DSM_COG_10_N27_00_E064_00_HAND.tif │\n",
      "│ POLYGON ((64.999861 30.000139, 64.999861 29.000139, 65.999861 29.000139, 65.999861 30.000139, 64.999861 30.000139)) │ /vsicurl/https://glo-30-hand.s3-us-west-2.amazonaws.com/v1/2021/Copernicus_DSM_COG_10_N29_00_E065_00_HAND.tif │\n",
      "│ POLYGON ((68.999861 25.000139, 68.999861 24.000139, 69.999861 24.000139, 69.999861 25.000139, 68.999861 25.000139)) │ /vsicurl/https://glo-30-hand.s3-us-west-2.amazonaws.com/v1/2021/Copernicus_DSM_COG_10_N24_00_E069_00_HAND.tif │\n",
      "│ POLYGON ((73.999861 37.000139, 73.999861 36.000139, 74.999861 36.000139, 74.999861 37.000139, 73.999861 37.000139)) │ /vsicurl/https://glo-30-hand.s3-us-west-2.amazonaws.com/v1/2021/Copernicus_DSM_COG_10_N36_00_E074_00_HAND.tif │\n",
      "│ POLYGON ((64.999861 29.000139, 64.999861 28.000139, 65.999861 28.000139, 65.999861 29.000139, 64.999861 29.000139)) │ /vsicurl/https://glo-30-hand.s3-us-west-2.amazonaws.com/v1/2021/Copernicus_DSM_COG_10_N28_00_E065_00_HAND.tif │\n",
      "│ POLYGON ((66.999861 30.000139, 66.999861 29.000139, 67.999861 29.000139, 67.999861 30.000139, 66.999861 30.000139)) │ /vsicurl/https://glo-30-hand.s3-us-west-2.amazonaws.com/v1/2021/Copernicus_DSM_COG_10_N29_00_E067_00_HAND.tif │\n",
      "│ POLYGON ((64.999861 28.000139, 64.999861 27.000139, 65.999861 27.000139, 65.999861 28.000139, 64.999861 28.000139)) │ /vsicurl/https://glo-30-hand.s3-us-west-2.amazonaws.com/v1/2021/Copernicus_DSM_COG_10_N27_00_E065_00_HAND.tif │\n",
      "│ POLYGON ((61.999861 26.000139, 61.999861 25.000139, 62.999861 25.000139, 62.999861 26.000139, 61.999861 26.000139)) │ /vsicurl/https://glo-30-hand.s3-us-west-2.amazonaws.com/v1/2021/Copernicus_DSM_COG_10_N25_00_E062_00_HAND.tif │\n",
      "│                                                          ·                                                          │                                                       ·                                                       │\n",
      "│                                                          ·                                                          │                                                       ·                                                       │\n",
      "│                                                          ·                                                          │                                                       ·                                                       │\n",
      "│ POLYGON ((62.999861 30.000139, 62.999861 29.000139, 63.999861 29.000139, 63.999861 30.000139, 62.999861 30.000139)) │ /vsicurl/https://glo-30-hand.s3-us-west-2.amazonaws.com/v1/2021/Copernicus_DSM_COG_10_N29_00_E063_00_HAND.tif │\n",
      "│ POLYGON ((69.999861 27.000139, 69.999861 26.000139, 70.999861 26.000139, 70.999861 27.000139, 69.999861 27.000139)) │ /vsicurl/https://glo-30-hand.s3-us-west-2.amazonaws.com/v1/2021/Copernicus_DSM_COG_10_N26_00_E070_00_HAND.tif │\n",
      "│ POLYGON ((70.999861 28.000139, 70.999861 27.000139, 71.999861 27.000139, 71.999861 28.000139, 70.999861 28.000139)) │ /vsicurl/https://glo-30-hand.s3-us-west-2.amazonaws.com/v1/2021/Copernicus_DSM_COG_10_N27_00_E071_00_HAND.tif │\n",
      "│ POLYGON ((70.999861 32.000139, 70.999861 31.000139, 71.999861 31.000139, 71.999861 32.000139, 70.999861 32.000139)) │ /vsicurl/https://glo-30-hand.s3-us-west-2.amazonaws.com/v1/2021/Copernicus_DSM_COG_10_N31_00_E071_00_HAND.tif │\n",
      "│ POLYGON ((71.999861 32.000139, 71.999861 31.000139, 72.999861 31.000139, 72.999861 32.000139, 71.999861 32.000139)) │ /vsicurl/https://glo-30-hand.s3-us-west-2.amazonaws.com/v1/2021/Copernicus_DSM_COG_10_N31_00_E072_00_HAND.tif │\n",
      "│ POLYGON ((68.999861 35.000139, 68.999861 34.000139, 69.999861 34.000139, 69.999861 35.000139, 68.999861 35.000139)) │ /vsicurl/https://glo-30-hand.s3-us-west-2.amazonaws.com/v1/2021/Copernicus_DSM_COG_10_N34_00_E069_00_HAND.tif │\n",
      "│ POLYGON ((71.999861 34.000139, 71.999861 33.000139, 72.999861 33.000139, 72.999861 34.000139, 71.999861 34.000139)) │ /vsicurl/https://glo-30-hand.s3-us-west-2.amazonaws.com/v1/2021/Copernicus_DSM_COG_10_N33_00_E072_00_HAND.tif │\n",
      "│ POLYGON ((70.999861 34.000139, 70.999861 33.000139, 71.999861 33.000139, 71.999861 34.000139, 70.999861 34.000139)) │ /vsicurl/https://glo-30-hand.s3-us-west-2.amazonaws.com/v1/2021/Copernicus_DSM_COG_10_N33_00_E071_00_HAND.tif │\n",
      "│ POLYGON ((72.999861 33.000139, 72.999861 32.000139, 73.999861 32.000139, 73.999861 33.000139, 72.999861 33.000139)) │ /vsicurl/https://glo-30-hand.s3-us-west-2.amazonaws.com/v1/2021/Copernicus_DSM_COG_10_N32_00_E073_00_HAND.tif │\n",
      "│ POLYGON ((73.999861 36.000139, 73.999861 35.000139, 74.999861 35.000139, 74.999861 36.000139, 73.999861 36.000139)) │ /vsicurl/https://glo-30-hand.s3-us-west-2.amazonaws.com/v1/2021/Copernicus_DSM_COG_10_N35_00_E074_00_HAND.tif │\n",
      "├─────────────────────────────────────────────────────────────────────────────────────────────────────────────────────┴───────────────────────────────────────────────────────────────────────────────────────────────────────────────┤\n",
      "│ 131 rows (20 shown)                                                                                                                                                                                                       2 columns │\n",
      "└─────────────────────────────────────────────────────────────────────────────────────────────────────────────────────────────────────────────────────────────────────────────────────────────────────────────────────────────────────┘\n",
      "\n"
     ]
    }
   ],
   "source": [
    "rois_hand = con.sql(\"\"\"\n",
    "    With hand_raster_polys as (\n",
    "    SELECT UNNEST(features) as feature,\n",
    "    st_geomfromgeojson(json_extract_string(feature, '$.geometry')) AS geom,\n",
    "    json_extract_string(feature, '$.properties.file_path') as file_path\n",
    "    FROM read_json_auto('glo-30-hand.geojson')\n",
    "    )\n",
    "    SELECT DISTINCT \n",
    "        geom, file_path  \n",
    "    FROM hand_raster_polys, read_parquet('overture_country_pk_with_JK.parquet')\n",
    "    WHERE ST_Intersects(geom, geometry)\n",
    "        \n",
    "\"\"\")\n",
    "rois_hand.show()"
   ]
  },
  {
   "cell_type": "code",
   "execution_count": 8,
   "id": "0b7ee1c9",
   "metadata": {},
   "outputs": [
    {
     "name": "stdout",
     "output_type": "stream",
     "text": [
      "User Guide: https://docs.kepler.gl/docs/keplergl-jupyter\n"
     ]
    },
    {
     "data": {
      "application/vnd.jupyter.widget-view+json": {
       "model_id": "1460cee8df5a4dc3939aea7a335ffefd",
       "version_major": 2,
       "version_minor": 0
      },
      "text/plain": [
       "KeplerGl(data={'PK Country': {'index': [0, 1, 2, 3, 4, 5, 6, 7, 8, 9, 10, 11, 12, 13, 14, 15, 16, 17, 18, 19, …"
      ]
     },
     "execution_count": 8,
     "metadata": {},
     "output_type": "execute_result"
    }
   ],
   "source": [
    "# Load the parquet file into a pandas DataFrame\n",
    "df = rois_hand.select(\"ST_AsText(geom) as geom,file_path\").df()\n",
    "\n",
    "# Visualize in KeplerGl\n",
    "map_2 = KeplerGl(height=800)\n",
    "map_2.add_data(data=df[[\"geom\", \"file_path\"]], name=\"PK Country\")\n",
    "map_2"
   ]
  },
  {
   "cell_type": "code",
   "execution_count": 9,
   "id": "1d0e0fda",
   "metadata": {},
   "outputs": [
    {
     "name": "stderr",
     "output_type": "stream",
     "text": [
      "100%|██████████| 131/131 [00:00<00:00, 582665.77it/s]\n"
     ]
    }
   ],
   "source": [
    "os.makedirs(\"hand_cogs\", exist_ok=True)\n",
    "import urllib.request\n",
    "import tqdm\n",
    "from concurrent.futures import ThreadPoolExecutor\n",
    "\n",
    "\n",
    "file_paths = rois_hand.select(\"file_path\").df()[\"file_path\"]\n",
    "def download_file(url):\n",
    "    filename = os.path.join(\"hand_cogs\", os.path.basename(url.split(\"/\")[-1]))\n",
    "    if not os.path.exists(filename):\n",
    "        print(f\"Downloading {url} to {filename}\")\n",
    "        urllib.request.urlretrieve(url.replace(\"/vsicurl/\", \"\"), filename)\n",
    "\n",
    "with ThreadPoolExecutor() as executor:\n",
    "    list(tqdm.tqdm(executor.map(download_file, file_paths), total=len(file_paths)))"
   ]
  },
  {
   "cell_type": "code",
   "execution_count": 10,
   "id": "4a597d30",
   "metadata": {},
   "outputs": [],
   "source": [
    "bboxes = con.read_parquet('overture_country_pk.parquet')['bbox'].select(\"bbox.xmin\", \"bbox.ymin\", \"bbox.xmax\", \"bbox.ymax\").df()\n",
    "minx, miny, maxx, maxy = min(bboxes[\"xmin\"]), min(bboxes[\"ymin\"]), max(bboxes[\"xmax\"]), max(bboxes[\"ymax\"])"
   ]
  },
  {
   "cell_type": "code",
   "execution_count": 11,
   "id": "77fbe0de",
   "metadata": {},
   "outputs": [],
   "source": [
    "rois_hand_df = rois_hand.select(\n",
    "    duckdb.SQLExpression(\"ST_AsText(geom)\").alias(\"geom_wkt\"),'file_path').df()"
   ]
  },
  {
   "cell_type": "code",
   "execution_count": 12,
   "id": "f2903ac8",
   "metadata": {},
   "outputs": [],
   "source": [
    "if not os.path.exists(\"buildings_pk.parquet\"):\n",
    "    con.sql(f\"\"\"\n",
    "        COPY (\n",
    "            SELECT\n",
    "                *\n",
    "            FROM read_parquet('s3://overturemaps-us-west-2/release/{OVERTURE_VERSION}/theme=buildings/type=*/*', hive_partitioning=1, union_by_name=True)\n",
    "        WHERE\n",
    "            bbox.xmin > {minx}\n",
    "            AND bbox.xmax < {maxx}\n",
    "            AND bbox.ymin > {miny}\n",
    "            AND bbox.ymax < {maxy}\n",
    "    ) TO 'buildings_pk.parquet'\n",
    "    \"\"\"\n",
    "    )"
   ]
  },
  {
   "cell_type": "code",
   "execution_count": null,
   "id": "549f2b41",
   "metadata": {},
   "outputs": [
    {
     "name": "stderr",
     "output_type": "stream",
     "text": [
      "100%|██████████| 131/131 [00:00<00:00, 92923.02it/s]\n"
     ]
    }
   ],
   "source": [
    "buildings = con.read_parquet('buildings_pk.parquet')\n",
    "\n",
    "for row in tqdm.tqdm(rois_hand_df.values):\n",
    "    os.makedirs(f\"building_density_at_res_{RES}\", exist_ok=True)\n",
    "    geom_wkt = row[0]\n",
    "    file_path_from_json = os.path.join(\"hand_cogs\", os.path.basename(row[1].split(\"/\")[-1]))\n",
    "    file_path = f\"building_density_at_res_{RES}/building_density_{os.path.splitext(os.path.basename(file_path_from_json))[0]}_{RES}.parquet\"\n",
    "    if not os.path.exists(file_path):\n",
    "        building_rois = buildings.filter(f\"ST_Intersects(geometry, ST_GeomFromText('{geom_wkt}'))\")\n",
    "        building_density = (building_rois\n",
    "            .select(duckdb.SQLExpression(\"ST_Centroid(geometry)\").alias(\"centroid\"))\n",
    "            .select(duckdb.SQLExpression(f\"h3_latlng_to_cell_string(ST_Y(centroid), ST_X(centroid), {RES})\").alias(\"h3_cell\"))\n",
    "        )\n",
    "\n",
    "        building_density = con.sql(\"\"\"\n",
    "                SELECT \n",
    "                        h3_cell, \n",
    "                        COUNT(*) as building_count,\n",
    "                        -- h3_cell_to_boundary_wkt(h3_cell) as building_boundary,\n",
    "                        ST_AsText(ST_POINT(h3_cell_to_lng(h3_cell), h3_cell_to_lat(h3_cell))) as centroid_wkt\n",
    "                FROM building_density GROUP BY h3_cell\n",
    "        \"\"\")\n",
    "        building_density_df = building_density.df()\n",
    "        building_density_df[\"centroid\"] = building_density_df[\"centroid_wkt\"].apply(shapely.wkt.loads)\n",
    "\n",
    "        def query_points_batch(geoms):\n",
    "            return point_query(geoms, file_path_from_json)\n",
    "\n",
    "        batch_size = 1000\n",
    "        results = []\n",
    "        with ThreadPoolExecutor() as executor:\n",
    "            batches = [building_density_df[\"centroid\"][i:i+batch_size] for i in range(0, len(building_density_df), batch_size)]\n",
    "            batch_results = list(executor.map(query_points_batch, batches))\n",
    "            for res in batch_results:\n",
    "                results.extend(res)\n",
    "\n",
    "        building_density_df[\"point_query\"] = results\n",
    "        building_density_df.drop(\"centroid\", axis=1).to_parquet(file_path, index=False)\n"
   ]
  },
  {
   "cell_type": "code",
   "execution_count": 14,
   "id": "76536fb0",
   "metadata": {},
   "outputs": [],
   "source": [
    "# Use DuckDB to read and concatenate all parquet files and write to a single parquet file\n",
    "if not os.path.exists(f'merged_res_{RES}.parquet'):\n",
    "    con.sql(f\"\"\"\n",
    "        COPY (SELECT * FROM read_parquet('building_density_at_res_{RES}/building_density_*.parquet', union_by_name=True)) \n",
    "        TO 'merged_res_{RES}.parquet' (FORMAT 'parquet')\n",
    "    \"\"\")"
   ]
  },
  {
   "cell_type": "code",
   "execution_count": 15,
   "id": "7e581206",
   "metadata": {},
   "outputs": [],
   "source": [
    "map_config = {'version': 'v1',\n",
    " 'config': {'visState': {'filters': [],\n",
    "   'layers': [{'id': 'pk7kxsk',\n",
    "     'type': 'hexagonId',\n",
    "     'config': {'dataId': 'building density',\n",
    "      'label': 'building density',\n",
    "      'color': [34, 63, 154],\n",
    "      'highlightColor': [252, 242, 26, 255],\n",
    "      'columns': {'hex_id': 'h3_cell'},\n",
    "      'isVisible': True,\n",
    "      'visConfig': {'colorRange': {'name': 'Global Warming',\n",
    "        'type': 'sequential',\n",
    "        'category': 'Uber',\n",
    "        'colors': ['#FFC300',\n",
    "         '#F1920E',\n",
    "         '#E3611C',\n",
    "         '#C70039',\n",
    "         '#900C3F',\n",
    "         '#5A1846'],\n",
    "        'reversed': True},\n",
    "       'filled': True,\n",
    "       'opacity': 0.8,\n",
    "       'outline': False,\n",
    "       'strokeColor': None,\n",
    "       'strokeColorRange': {'name': 'Global Warming',\n",
    "        'type': 'sequential',\n",
    "        'category': 'Uber',\n",
    "        'colors': ['#5A1846',\n",
    "         '#900C3F',\n",
    "         '#C70039',\n",
    "         '#E3611C',\n",
    "         '#F1920E',\n",
    "         '#FFC300']},\n",
    "       'strokeOpacity': 0.8,\n",
    "       'thickness': 2,\n",
    "       'coverage': 1,\n",
    "       'enable3d': True,\n",
    "       'sizeRange': [0, 500],\n",
    "       'coverageRange': [0, 1],\n",
    "       'elevationScale': 5,\n",
    "       'enableElevationZoomFactor': True},\n",
    "      'hidden': False,\n",
    "      'textLabel': [{'field': None,\n",
    "        'color': [255, 255, 255],\n",
    "        'size': 18,\n",
    "        'offset': [0, 0],\n",
    "        'anchor': 'middle',\n",
    "        'alignment': 'center',\n",
    "        'outlineWidth': 0,\n",
    "        'outlineColor': [255, 0, 0, 255],\n",
    "        'background': False,\n",
    "        'backgroundColor': [0, 0, 200, 255]}]},\n",
    "     'visualChannels': {'colorField': {'name': 'point_query', 'type': 'real'},\n",
    "      'colorScale': 'quantile',\n",
    "      'strokeColorField': None,\n",
    "      'strokeColorScale': 'quantile',\n",
    "      'sizeField': {'name': 'building_count', 'type': 'integer'},\n",
    "      'sizeScale': 'linear',\n",
    "      'coverageField': None,\n",
    "      'coverageScale': 'linear'}}],\n",
    "   'effects': [],\n",
    "   'interactionConfig': {'tooltip': {'fieldsToShow': {'building density': [{'name': 'h3_cell',\n",
    "        'format': None},\n",
    "       {'name': 'building_count', 'format': None},\n",
    "       {'name': 'point_query', 'format': None}]},\n",
    "     'compareMode': False,\n",
    "     'compareType': 'absolute',\n",
    "     'enabled': True},\n",
    "    'brush': {'size': 0.5, 'enabled': False},\n",
    "    'geocoder': {'enabled': False},\n",
    "    'coordinate': {'enabled': False}},\n",
    "   'layerBlending': 'normal',\n",
    "   'overlayBlending': 'normal',\n",
    "   'splitMaps': [],\n",
    "   'animationConfig': {'currentTime': None, 'speed': 1},\n",
    "   'editor': {'features': [], 'visible': True}},\n",
    "  'mapState': {'bearing': 24,\n",
    "   'dragRotate': True,\n",
    "   'latitude': 30.531893616040605,\n",
    "   'longitude': 70.01893558941872,\n",
    "   'pitch': 50,\n",
    "   'zoom': 6.795093380133405,\n",
    "   'isSplit': False,\n",
    "   'isViewportSynced': True,\n",
    "   'isZoomLocked': False,\n",
    "   'splitMapViewports': []},\n",
    "  'mapStyle': {'styleType': 'dark-matter',\n",
    "   'topLayerGroups': {},\n",
    "   'visibleLayerGroups': {'label': True,\n",
    "    'road': True,\n",
    "    'border': False,\n",
    "    'building': True,\n",
    "    'water': True,\n",
    "    'land': True,\n",
    "    '3d building': False},\n",
    "   'threeDBuildingColor': [15.035172933000911,\n",
    "    15.035172933000911,\n",
    "    15.035172933000911],\n",
    "   'backgroundColor': [0, 0, 0],\n",
    "   'mapStyles': {}}}}"
   ]
  },
  {
   "cell_type": "code",
   "execution_count": 16,
   "id": "f18b48d9",
   "metadata": {},
   "outputs": [
    {
     "name": "stdout",
     "output_type": "stream",
     "text": [
      "User Guide: https://docs.kepler.gl/docs/keplergl-jupyter\n"
     ]
    },
    {
     "name": "stderr",
     "output_type": "stream",
     "text": [
      "/Users/shabbir/.pyenv/versions/3.11.13/envs/env_analysis/lib/python3.11/site-packages/jupyter_client/session.py:721: UserWarning: Message serialization failed with:\n",
      "Out of range float values are not JSON compliant\n",
      "Supporting this message is deprecated in jupyter-client 7, please make sure your message is JSON-compliant\n",
      "  content = self.pack(content)\n"
     ]
    },
    {
     "data": {
      "application/vnd.jupyter.widget-view+json": {
       "model_id": "8c973e3e0a684e718b2fe0da2618e2b2",
       "version_major": 2,
       "version_minor": 0
      },
      "text/plain": [
       "KeplerGl(config={'version': 'v1', 'config': {'visState': {'filters': [], 'layers': [{'id': 'pk7kxsk', 'type': …"
      ]
     },
     "execution_count": 16,
     "metadata": {},
     "output_type": "execute_result"
    }
   ],
   "source": [
    "# this will blow at higher resolutions - for those its better to load individual parquet files then merged ones\n",
    "map_4 = KeplerGl(height=600)\n",
    "map_4.add_data(data=con.read_parquet(f'merged_res_{RES}.parquet').df(), name=\"building density\")\n",
    "map_4.config = map_config\n",
    "map_4"
   ]
  },
  {
   "cell_type": "code",
   "execution_count": 17,
   "id": "3bdd5a2e",
   "metadata": {},
   "outputs": [
    {
     "name": "stdout",
     "output_type": "stream",
     "text": [
      "Map saved to map_at_res_8.html!\n"
     ]
    }
   ],
   "source": [
    "map_4.save_to_html(file_name=f\"map_at_res_{RES}.html\")"
   ]
  },
  {
   "cell_type": "code",
   "execution_count": null,
   "id": "f559cd16",
   "metadata": {},
   "outputs": [],
   "source": []
  }
 ],
 "metadata": {
  "kernelspec": {
   "display_name": "env_analysis",
   "language": "python",
   "name": "python3"
  },
  "language_info": {
   "codemirror_mode": {
    "name": "ipython",
    "version": 3
   },
   "file_extension": ".py",
   "mimetype": "text/x-python",
   "name": "python",
   "nbconvert_exporter": "python",
   "pygments_lexer": "ipython3",
   "version": "3.11.13"
  }
 },
 "nbformat": 4,
 "nbformat_minor": 5
}
