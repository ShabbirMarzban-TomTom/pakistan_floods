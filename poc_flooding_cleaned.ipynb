{
 "cells": [
  {
   "cell_type": "code",
   "execution_count": 1,
   "id": "ba2e1835",
   "metadata": {},
   "outputs": [],
   "source": [
    "import duckdb\n",
    "import rasterio\n",
    "import os\n",
    "from keplergl import KeplerGl\n",
    "import pandas as pd\n",
    "import shapely\n",
    "from rasterstats import zonal_stats, point_query\n",
    "from concurrent.futures import ThreadPoolExecutor"
   ]
  },
  {
   "cell_type": "code",
   "execution_count": 2,
   "id": "a7004891",
   "metadata": {},
   "outputs": [],
   "source": [
    "RES = 8 # can go till 11 but after we will have <2 samples per cell I think\n",
    "OVERTURE_VERSION = \"2025-08-20.0\""
   ]
  },
  {
   "cell_type": "code",
   "execution_count": 3,
   "id": "3f6c6b26",
   "metadata": {},
   "outputs": [],
   "source": [
    "con = duckdb.connect()\n",
    "con.install_extension(\"spatial\")\n",
    "con.load_extension(\"spatial\")\n",
    "\n",
    "con.install_extension(\"h3\", repository=\"community\")\n",
    "con.load_extension(\"h3\")\n"
   ]
  },
  {
   "cell_type": "code",
   "execution_count": 4,
   "id": "388501d4",
   "metadata": {},
   "outputs": [],
   "source": [
    "if not os.path.exists(\"overture_country_pk.parquet\"):\n",
    "    con.sql(f\"\"\"\n",
    "        COPY(\n",
    "        SELECT\n",
    "            *\n",
    "        FROM\n",
    "            read_parquet('s3://overturemaps-us-west-2/release/{OVERTURE_VERSION}/theme=divisions/type=division_area/*', hive_partitioning=1)\n",
    "        WHERE\n",
    "            subtype = 'country'\n",
    "            AND country = 'PK'\n",
    "        ) TO 'overture_country_pk.parquet'\n",
    "    \"\"\")"
   ]
  },
  {
   "cell_type": "code",
   "execution_count": 5,
   "id": "3e5997ae",
   "metadata": {},
   "outputs": [
    {
     "name": "stdout",
     "output_type": "stream",
     "text": [
      "User Guide: https://docs.kepler.gl/docs/keplergl-jupyter\n"
     ]
    }
   ],
   "source": [
    "# Load the parquet file into a pandas DataFrame\n",
    "df = con.sql(\"SELECT *, ST_AsText(geometry) as geom FROM 'overture_country_pk.parquet'\").df()\n",
    "\n",
    "# Visualize in KeplerGl\n",
    "map_1 = KeplerGl(height=800)\n",
    "map_1.add_data(data=df[[\"geom\"]], name=\"PK Country\")\n"
   ]
  },
  {
   "cell_type": "code",
   "execution_count": 6,
   "id": "4a95334f",
   "metadata": {},
   "outputs": [
    {
     "name": "stdout",
     "output_type": "stream",
     "text": [
      "download: s3://glo-30-hand/v1/2021/glo-30-hand.geojson to ./glo-30-hand.geojson\n"
     ]
    }
   ],
   "source": [
    "# Download the GLO-30 hand geojson file\n",
    "!aws s3 cp --no-sign-request s3://glo-30-hand/v1/2021/glo-30-hand.geojson ./"
   ]
  },
  {
   "cell_type": "code",
   "execution_count": 7,
   "id": "3893068c",
   "metadata": {},
   "outputs": [
    {
     "name": "stdout",
     "output_type": "stream",
     "text": [
      "┌─────────────────────────────────────────────────────────────────────────────────────────────────────────────────────┬───────────────────────────────────────────────────────────────────────────────────────────────────────────────┐\n",
      "│                                                        geom                                                         │                                                   file_path                                                   │\n",
      "│                                                      geometry                                                       │                                                    varchar                                                    │\n",
      "├─────────────────────────────────────────────────────────────────────────────────────────────────────────────────────┼───────────────────────────────────────────────────────────────────────────────────────────────────────────────┤\n",
      "│ POLYGON ((73.999861 35.000139, 73.999861 34.000139, 74.999861 34.000139, 74.999861 35.000139, 73.999861 35.000139)) │ /vsicurl/https://glo-30-hand.s3-us-west-2.amazonaws.com/v1/2021/Copernicus_DSM_COG_10_N34_00_E074_00_HAND.tif │\n",
      "│ POLYGON ((77.999861 36.000139, 77.999861 35.000139, 78.999861 35.000139, 78.999861 36.000139, 77.999861 36.000139)) │ /vsicurl/https://glo-30-hand.s3-us-west-2.amazonaws.com/v1/2021/Copernicus_DSM_COG_10_N35_00_E078_00_HAND.tif │\n",
      "│ POLYGON ((63.999861 28.000139, 63.999861 27.000139, 64.999861 27.000139, 64.999861 28.000139, 63.999861 28.000139)) │ /vsicurl/https://glo-30-hand.s3-us-west-2.amazonaws.com/v1/2021/Copernicus_DSM_COG_10_N27_00_E064_00_HAND.tif │\n",
      "│ POLYGON ((64.999861 30.000139, 64.999861 29.000139, 65.999861 29.000139, 65.999861 30.000139, 64.999861 30.000139)) │ /vsicurl/https://glo-30-hand.s3-us-west-2.amazonaws.com/v1/2021/Copernicus_DSM_COG_10_N29_00_E065_00_HAND.tif │\n",
      "│ POLYGON ((68.999861 25.000139, 68.999861 24.000139, 69.999861 24.000139, 69.999861 25.000139, 68.999861 25.000139)) │ /vsicurl/https://glo-30-hand.s3-us-west-2.amazonaws.com/v1/2021/Copernicus_DSM_COG_10_N24_00_E069_00_HAND.tif │\n",
      "│ POLYGON ((73.999861 37.000139, 73.999861 36.000139, 74.999861 36.000139, 74.999861 37.000139, 73.999861 37.000139)) │ /vsicurl/https://glo-30-hand.s3-us-west-2.amazonaws.com/v1/2021/Copernicus_DSM_COG_10_N36_00_E074_00_HAND.tif │\n",
      "│ POLYGON ((76.999861 35.000139, 76.999861 34.000139, 77.999861 34.000139, 77.999861 35.000139, 76.999861 35.000139)) │ /vsicurl/https://glo-30-hand.s3-us-west-2.amazonaws.com/v1/2021/Copernicus_DSM_COG_10_N34_00_E077_00_HAND.tif │\n",
      "│ POLYGON ((77.999861 34.000139, 77.999861 33.000139, 78.999861 33.000139, 78.999861 34.000139, 77.999861 34.000139)) │ /vsicurl/https://glo-30-hand.s3-us-west-2.amazonaws.com/v1/2021/Copernicus_DSM_COG_10_N33_00_E078_00_HAND.tif │\n",
      "│ POLYGON ((76.999861 34.000139, 76.999861 33.000139, 77.999861 33.000139, 77.999861 34.000139, 76.999861 34.000139)) │ /vsicurl/https://glo-30-hand.s3-us-west-2.amazonaws.com/v1/2021/Copernicus_DSM_COG_10_N33_00_E077_00_HAND.tif │\n",
      "│ POLYGON ((76.999861 36.000139, 76.999861 35.000139, 77.999861 35.000139, 77.999861 36.000139, 76.999861 36.000139)) │ /vsicurl/https://glo-30-hand.s3-us-west-2.amazonaws.com/v1/2021/Copernicus_DSM_COG_10_N35_00_E077_00_HAND.tif │\n",
      "│                                                          ·                                                          │                                                       ·                                                       │\n",
      "│                                                          ·                                                          │                                                       ·                                                       │\n",
      "│                                                          ·                                                          │                                                       ·                                                       │\n",
      "│ POLYGON ((65.999861 30.000139, 65.999861 29.000139, 66.999861 29.000139, 66.999861 30.000139, 65.999861 30.000139)) │ /vsicurl/https://glo-30-hand.s3-us-west-2.amazonaws.com/v1/2021/Copernicus_DSM_COG_10_N29_00_E066_00_HAND.tif │\n",
      "│ POLYGON ((65.999861 28.000139, 65.999861 27.000139, 66.999861 27.000139, 66.999861 28.000139, 65.999861 28.000139)) │ /vsicurl/https://glo-30-hand.s3-us-west-2.amazonaws.com/v1/2021/Copernicus_DSM_COG_10_N27_00_E066_00_HAND.tif │\n",
      "│ POLYGON ((61.999861 27.000139, 61.999861 26.000139, 62.999861 26.000139, 62.999861 27.000139, 61.999861 27.000139)) │ /vsicurl/https://glo-30-hand.s3-us-west-2.amazonaws.com/v1/2021/Copernicus_DSM_COG_10_N26_00_E062_00_HAND.tif │\n",
      "│ POLYGON ((72.999861 31.000139, 72.999861 30.000139, 73.999861 30.000139, 73.999861 31.000139, 72.999861 31.000139)) │ /vsicurl/https://glo-30-hand.s3-us-west-2.amazonaws.com/v1/2021/Copernicus_DSM_COG_10_N30_00_E073_00_HAND.tif │\n",
      "│ POLYGON ((75.999861 34.000139, 75.999861 33.000139, 76.999861 33.000139, 76.999861 34.000139, 75.999861 34.000139)) │ /vsicurl/https://glo-30-hand.s3-us-west-2.amazonaws.com/v1/2021/Copernicus_DSM_COG_10_N33_00_E076_00_HAND.tif │\n",
      "│ POLYGON ((66.999861 26.000139, 66.999861 25.000139, 67.999861 25.000139, 67.999861 26.000139, 66.999861 26.000139)) │ /vsicurl/https://glo-30-hand.s3-us-west-2.amazonaws.com/v1/2021/Copernicus_DSM_COG_10_N25_00_E067_00_HAND.tif │\n",
      "│ POLYGON ((72.999861 30.000139, 72.999861 29.000139, 73.999861 29.000139, 73.999861 30.000139, 72.999861 30.000139)) │ /vsicurl/https://glo-30-hand.s3-us-west-2.amazonaws.com/v1/2021/Copernicus_DSM_COG_10_N29_00_E073_00_HAND.tif │\n",
      "│ POLYGON ((67.999861 27.000139, 67.999861 26.000139, 68.999861 26.000139, 68.999861 27.000139, 67.999861 27.000139)) │ /vsicurl/https://glo-30-hand.s3-us-west-2.amazonaws.com/v1/2021/Copernicus_DSM_COG_10_N26_00_E068_00_HAND.tif │\n",
      "│ POLYGON ((71.999861 30.000139, 71.999861 29.000139, 72.999861 29.000139, 72.999861 30.000139, 71.999861 30.000139)) │ /vsicurl/https://glo-30-hand.s3-us-west-2.amazonaws.com/v1/2021/Copernicus_DSM_COG_10_N29_00_E072_00_HAND.tif │\n",
      "│ POLYGON ((69.999861 32.000139, 69.999861 31.000139, 70.999861 31.000139, 70.999861 32.000139, 69.999861 32.000139)) │ /vsicurl/https://glo-30-hand.s3-us-west-2.amazonaws.com/v1/2021/Copernicus_DSM_COG_10_N31_00_E070_00_HAND.tif │\n",
      "├─────────────────────────────────────────────────────────────────────────────────────────────────────────────────────┴───────────────────────────────────────────────────────────────────────────────────────────────────────────────┤\n",
      "│ 131 rows (20 shown)                                                                                                                                                                                                       2 columns │\n",
      "└─────────────────────────────────────────────────────────────────────────────────────────────────────────────────────────────────────────────────────────────────────────────────────────────────────────────────────────────────────┘\n",
      "\n"
     ]
    }
   ],
   "source": [
    "rois_hand = con.sql(\"\"\"\n",
    "    With hand_raster_polys as (\n",
    "    SELECT UNNEST(features) as feature,\n",
    "    st_geomfromgeojson(json_extract_string(feature, '$.geometry')) AS geom,\n",
    "    json_extract_string(feature, '$.properties.file_path') as file_path\n",
    "    FROM read_json_auto('glo-30-hand.geojson')\n",
    "    )\n",
    "    SELECT DISTINCT \n",
    "        geom, file_path  \n",
    "    FROM hand_raster_polys, read_parquet('overture_country_pk_with_JK.parquet')\n",
    "    WHERE ST_Intersects(geom, geometry)\n",
    "        \n",
    "\"\"\")\n",
    "rois_hand.show()"
   ]
  },
  {
   "cell_type": "code",
   "execution_count": 8,
   "id": "0b7ee1c9",
   "metadata": {},
   "outputs": [
    {
     "name": "stdout",
     "output_type": "stream",
     "text": [
      "User Guide: https://docs.kepler.gl/docs/keplergl-jupyter\n"
     ]
    },
    {
     "data": {
      "application/vnd.jupyter.widget-view+json": {
       "model_id": "84e22d28b83d400aa9e6a80f9a81b313",
       "version_major": 2,
       "version_minor": 0
      },
      "text/plain": [
       "KeplerGl(data={'PK Country': {'index': [0, 1, 2, 3, 4, 5, 6, 7, 8, 9, 10, 11, 12, 13, 14, 15, 16, 17, 18, 19, …"
      ]
     },
     "execution_count": 8,
     "metadata": {},
     "output_type": "execute_result"
    }
   ],
   "source": [
    "# Load the parquet file into a pandas DataFrame\n",
    "df = rois_hand.select(\"ST_AsText(geom) as geom,file_path\").df()\n",
    "\n",
    "# Visualize in KeplerGl\n",
    "map_2 = KeplerGl(height=800)\n",
    "map_2.add_data(data=df[[\"geom\", \"file_path\"]], name=\"PK Country\")\n",
    "map_2"
   ]
  },
  {
   "cell_type": "code",
   "execution_count": 9,
   "id": "1d0e0fda",
   "metadata": {},
   "outputs": [
    {
     "name": "stderr",
     "output_type": "stream",
     "text": [
      "100%|██████████| 131/131 [00:00<00:00, 635941.93it/s]\n"
     ]
    }
   ],
   "source": [
    "os.makedirs(\"hand_cogs\", exist_ok=True)\n",
    "import urllib.request\n",
    "import tqdm\n",
    "from concurrent.futures import ThreadPoolExecutor\n",
    "\n",
    "\n",
    "file_paths = rois_hand.select(\"file_path\").df()[\"file_path\"]\n",
    "def download_file(url):\n",
    "    filename = os.path.join(\"hand_cogs\", os.path.basename(url.split(\"/\")[-1]))\n",
    "    if not os.path.exists(filename):\n",
    "        print(f\"Downloading {url} to {filename}\")\n",
    "        urllib.request.urlretrieve(url.replace(\"/vsicurl/\", \"\"), filename)\n",
    "\n",
    "with ThreadPoolExecutor() as executor:\n",
    "    list(tqdm.tqdm(executor.map(download_file, file_paths), total=len(file_paths)))"
   ]
  },
  {
   "cell_type": "code",
   "execution_count": 10,
   "id": "4a597d30",
   "metadata": {},
   "outputs": [],
   "source": [
    "bboxes = con.read_parquet('overture_country_pk.parquet')['bbox'].select(\"bbox.xmin\", \"bbox.ymin\", \"bbox.xmax\", \"bbox.ymax\").df()\n",
    "minx, miny, maxx, maxy = min(bboxes[\"xmin\"]), min(bboxes[\"ymin\"]), max(bboxes[\"xmax\"]), max(bboxes[\"ymax\"])"
   ]
  },
  {
   "cell_type": "code",
   "execution_count": 11,
   "id": "77fbe0de",
   "metadata": {},
   "outputs": [],
   "source": [
    "rois_hand_df = rois_hand.select(\n",
    "    duckdb.SQLExpression(\"ST_AsText(geom)\").alias(\"geom_wkt\"),'file_path').df()"
   ]
  },
  {
   "cell_type": "code",
   "execution_count": 12,
   "id": "f2903ac8",
   "metadata": {},
   "outputs": [],
   "source": [
    "if not os.path.exists(\"buildings_pk.parquet\"):\n",
    "    con.sql(f\"\"\"\n",
    "        COPY (\n",
    "            SELECT\n",
    "                *\n",
    "            FROM read_parquet('s3://overturemaps-us-west-2/release/{OVERTURE_VERSION}/theme=buildings/type=*/*', hive_partitioning=1, union_by_name=True)\n",
    "        WHERE\n",
    "            bbox.xmin > {minx}\n",
    "            AND bbox.xmax < {maxx}\n",
    "            AND bbox.ymin > {miny}\n",
    "            AND bbox.ymax < {maxy}\n",
    "    ) TO 'buildings_pk.parquet'\n",
    "    \"\"\"\n",
    "    )"
   ]
  },
  {
   "cell_type": "code",
   "execution_count": null,
   "id": "549f2b41",
   "metadata": {},
   "outputs": [
    {
     "name": "stderr",
     "output_type": "stream",
     "text": [
      "  0%|          | 0/131 [00:00<?, ?it/s]"
     ]
    },
    {
     "data": {
      "application/vnd.jupyter.widget-view+json": {
       "model_id": "2890cfee21f54cd0ba054813881408b1",
       "version_major": 2,
       "version_minor": 0
      },
      "text/plain": [
       "FloatProgress(value=0.0, layout=Layout(width='auto'), style=ProgressStyle(bar_color='black'))"
      ]
     },
     "metadata": {},
     "output_type": "display_data"
    },
    {
     "name": "stderr",
     "output_type": "stream",
     "text": [
      "/Users/shabbir/.pyenv/versions/env_analysis/lib/python3.11/site-packages/rasterstats/io.py:335: NodataWarning: Setting nodata to -999; specify nodata explicitly\n",
      "  warnings.warn(\n",
      "/Users/shabbir/.pyenv/versions/env_analysis/lib/python3.11/site-packages/rasterio/features.py:392: NotGeoreferencedWarning: Dataset has no geotransform, gcps, or rpcs. The identity matrix will be returned.\n",
      "  _rasterize(valid_shapes, out, transform, all_touched, merge_alg)\n",
      "/Users/shabbir/.pyenv/versions/env_analysis/lib/python3.11/site-packages/rasterio/features.py:392: NotGeoreferencedWarning: Dataset has no geotransform, gcps, or rpcs. The identity matrix will be returned.\n",
      "  _rasterize(valid_shapes, out, transform, all_touched, merge_alg)\n",
      "/Users/shabbir/.pyenv/versions/env_analysis/lib/python3.11/site-packages/rasterio/features.py:392: NotGeoreferencedWarning: Dataset has no geotransform, gcps, or rpcs. The identity matrix will be returned.\n",
      "  _rasterize(valid_shapes, out, transform, all_touched, merge_alg)\n",
      "  1%|          | 1/131 [00:35<1:16:04, 35.11s/it]"
     ]
    },
    {
     "data": {
      "application/vnd.jupyter.widget-view+json": {
       "model_id": "861676ce19ea41f0a4faefd1ddec5636",
       "version_major": 2,
       "version_minor": 0
      },
      "text/plain": [
       "FloatProgress(value=0.0, layout=Layout(width='auto'), style=ProgressStyle(bar_color='black'))"
      ]
     },
     "metadata": {},
     "output_type": "display_data"
    },
    {
     "name": "stderr",
     "output_type": "stream",
     "text": [
      "  2%|▏         | 2/131 [01:05<1:10:05, 32.60s/it]"
     ]
    },
    {
     "data": {
      "application/vnd.jupyter.widget-view+json": {
       "model_id": "c3e9c75643ae492ca206eb602c8c9b77",
       "version_major": 2,
       "version_minor": 0
      },
      "text/plain": [
       "FloatProgress(value=0.0, layout=Layout(width='auto'), style=ProgressStyle(bar_color='black'))"
      ]
     },
     "metadata": {},
     "output_type": "display_data"
    },
    {
     "name": "stderr",
     "output_type": "stream",
     "text": [
      "  2%|▏         | 3/131 [01:33<1:05:04, 30.51s/it]"
     ]
    },
    {
     "data": {
      "application/vnd.jupyter.widget-view+json": {
       "model_id": "08e15fb59c374449970ea0afb69a8213",
       "version_major": 2,
       "version_minor": 0
      },
      "text/plain": [
       "FloatProgress(value=0.0, layout=Layout(width='auto'), style=ProgressStyle(bar_color='black'))"
      ]
     },
     "metadata": {},
     "output_type": "display_data"
    },
    {
     "name": "stderr",
     "output_type": "stream",
     "text": [
      "  3%|▎         | 4/131 [02:09<1:08:52, 32.54s/it]"
     ]
    },
    {
     "data": {
      "application/vnd.jupyter.widget-view+json": {
       "model_id": "4929184dbd02461cb5787943e7f666c2",
       "version_major": 2,
       "version_minor": 0
      },
      "text/plain": [
       "FloatProgress(value=0.0, layout=Layout(width='auto'), style=ProgressStyle(bar_color='black'))"
      ]
     },
     "metadata": {},
     "output_type": "display_data"
    },
    {
     "name": "stderr",
     "output_type": "stream",
     "text": [
      "  4%|▍         | 5/131 [02:43<1:09:12, 32.96s/it]"
     ]
    },
    {
     "data": {
      "application/vnd.jupyter.widget-view+json": {
       "model_id": "e08c9a046a484011b40f080c36d1ee10",
       "version_major": 2,
       "version_minor": 0
      },
      "text/plain": [
       "FloatProgress(value=0.0, layout=Layout(width='auto'), style=ProgressStyle(bar_color='black'))"
      ]
     },
     "metadata": {},
     "output_type": "display_data"
    },
    {
     "name": "stderr",
     "output_type": "stream",
     "text": [
      "  5%|▍         | 6/131 [03:13<1:06:23, 31.87s/it]"
     ]
    },
    {
     "data": {
      "application/vnd.jupyter.widget-view+json": {
       "model_id": "5fcc7d5af732470788226264912cb2ac",
       "version_major": 2,
       "version_minor": 0
      },
      "text/plain": [
       "FloatProgress(value=0.0, layout=Layout(width='auto'), style=ProgressStyle(bar_color='black'))"
      ]
     },
     "metadata": {},
     "output_type": "display_data"
    },
    {
     "name": "stderr",
     "output_type": "stream",
     "text": [
      "  5%|▌         | 7/131 [03:37<1:01:03, 29.54s/it]"
     ]
    },
    {
     "data": {
      "application/vnd.jupyter.widget-view+json": {
       "model_id": "458334e770844cc0a0863670a7510008",
       "version_major": 2,
       "version_minor": 0
      },
      "text/plain": [
       "FloatProgress(value=0.0, layout=Layout(width='auto'), style=ProgressStyle(bar_color='black'))"
      ]
     },
     "metadata": {},
     "output_type": "display_data"
    },
    {
     "name": "stderr",
     "output_type": "stream",
     "text": [
      "  6%|▌         | 8/131 [04:02<57:32, 28.07s/it]  "
     ]
    },
    {
     "data": {
      "application/vnd.jupyter.widget-view+json": {
       "model_id": "03ba4e71a95146c7b882b86b1b9b2893",
       "version_major": 2,
       "version_minor": 0
      },
      "text/plain": [
       "FloatProgress(value=0.0, layout=Layout(width='auto'), style=ProgressStyle(bar_color='black'))"
      ]
     },
     "metadata": {},
     "output_type": "display_data"
    },
    {
     "name": "stderr",
     "output_type": "stream",
     "text": [
      "  7%|▋         | 9/131 [04:31<57:25, 28.24s/it]"
     ]
    },
    {
     "data": {
      "application/vnd.jupyter.widget-view+json": {
       "model_id": "b0438c9f4bea482d88ca16ee13c2ae13",
       "version_major": 2,
       "version_minor": 0
      },
      "text/plain": [
       "FloatProgress(value=0.0, layout=Layout(width='auto'), style=ProgressStyle(bar_color='black'))"
      ]
     },
     "metadata": {},
     "output_type": "display_data"
    },
    {
     "name": "stderr",
     "output_type": "stream",
     "text": [
      "  8%|▊         | 10/131 [05:02<58:33, 29.04s/it]"
     ]
    },
    {
     "data": {
      "application/vnd.jupyter.widget-view+json": {
       "model_id": "59418e713cc34cc6b6acf18a29912c87",
       "version_major": 2,
       "version_minor": 0
      },
      "text/plain": [
       "FloatProgress(value=0.0, layout=Layout(width='auto'), style=ProgressStyle(bar_color='black'))"
      ]
     },
     "metadata": {},
     "output_type": "display_data"
    },
    {
     "name": "stderr",
     "output_type": "stream",
     "text": [
      "  8%|▊         | 11/131 [05:41<1:04:03, 32.03s/it]"
     ]
    },
    {
     "data": {
      "application/vnd.jupyter.widget-view+json": {
       "model_id": "2f52a6155f504becad7d33a56d431e53",
       "version_major": 2,
       "version_minor": 0
      },
      "text/plain": [
       "FloatProgress(value=0.0, layout=Layout(width='auto'), style=ProgressStyle(bar_color='black'))"
      ]
     },
     "metadata": {},
     "output_type": "display_data"
    },
    {
     "name": "stderr",
     "output_type": "stream",
     "text": [
      "  9%|▉         | 12/131 [06:11<1:02:36, 31.57s/it]"
     ]
    },
    {
     "data": {
      "application/vnd.jupyter.widget-view+json": {
       "model_id": "bed4a90fc64248a1a6101f30af8a10e5",
       "version_major": 2,
       "version_minor": 0
      },
      "text/plain": [
       "FloatProgress(value=0.0, layout=Layout(width='auto'), style=ProgressStyle(bar_color='black'))"
      ]
     },
     "metadata": {},
     "output_type": "display_data"
    },
    {
     "name": "stderr",
     "output_type": "stream",
     "text": [
      " 10%|▉         | 13/131 [06:41<1:00:56, 30.99s/it]"
     ]
    },
    {
     "data": {
      "application/vnd.jupyter.widget-view+json": {
       "model_id": "bc26ad17154b4bf4b8c68c8f13689838",
       "version_major": 2,
       "version_minor": 0
      },
      "text/plain": [
       "FloatProgress(value=0.0, layout=Layout(width='auto'), style=ProgressStyle(bar_color='black'))"
      ]
     },
     "metadata": {},
     "output_type": "display_data"
    },
    {
     "name": "stderr",
     "output_type": "stream",
     "text": [
      " 11%|█         | 14/131 [07:09<59:00, 30.26s/it]  "
     ]
    },
    {
     "data": {
      "application/vnd.jupyter.widget-view+json": {
       "model_id": "574598564b97491c88a3e5053a8051be",
       "version_major": 2,
       "version_minor": 0
      },
      "text/plain": [
       "FloatProgress(value=0.0, layout=Layout(width='auto'), style=ProgressStyle(bar_color='black'))"
      ]
     },
     "metadata": {},
     "output_type": "display_data"
    },
    {
     "name": "stderr",
     "output_type": "stream",
     "text": [
      " 11%|█▏        | 15/131 [07:36<56:25, 29.19s/it]"
     ]
    },
    {
     "data": {
      "application/vnd.jupyter.widget-view+json": {
       "model_id": "954008220a0a4c1c8ac71cab31223d4d",
       "version_major": 2,
       "version_minor": 0
      },
      "text/plain": [
       "FloatProgress(value=0.0, layout=Layout(width='auto'), style=ProgressStyle(bar_color='black'))"
      ]
     },
     "metadata": {},
     "output_type": "display_data"
    },
    {
     "name": "stderr",
     "output_type": "stream",
     "text": [
      " 12%|█▏        | 16/131 [08:04<55:08, 28.77s/it]"
     ]
    },
    {
     "data": {
      "application/vnd.jupyter.widget-view+json": {
       "model_id": "67b572e7c9b54d758969994ba6cf8402",
       "version_major": 2,
       "version_minor": 0
      },
      "text/plain": [
       "FloatProgress(value=0.0, layout=Layout(width='auto'), style=ProgressStyle(bar_color='black'))"
      ]
     },
     "metadata": {},
     "output_type": "display_data"
    },
    {
     "name": "stderr",
     "output_type": "stream",
     "text": [
      " 13%|█▎        | 17/131 [08:32<54:10, 28.51s/it]"
     ]
    },
    {
     "data": {
      "application/vnd.jupyter.widget-view+json": {
       "model_id": "aa33555f30bf4eaa9de700b2de776445",
       "version_major": 2,
       "version_minor": 0
      },
      "text/plain": [
       "FloatProgress(value=0.0, layout=Layout(width='auto'), style=ProgressStyle(bar_color='black'))"
      ]
     },
     "metadata": {},
     "output_type": "display_data"
    },
    {
     "name": "stderr",
     "output_type": "stream",
     "text": [
      " 14%|█▎        | 18/131 [09:01<53:58, 28.66s/it]"
     ]
    },
    {
     "data": {
      "application/vnd.jupyter.widget-view+json": {
       "model_id": "996b8d0c98e2477ab99e06e66d420234",
       "version_major": 2,
       "version_minor": 0
      },
      "text/plain": [
       "FloatProgress(value=0.0, layout=Layout(width='auto'), style=ProgressStyle(bar_color='black'))"
      ]
     },
     "metadata": {},
     "output_type": "display_data"
    },
    {
     "name": "stderr",
     "output_type": "stream",
     "text": [
      " 15%|█▍        | 19/131 [09:28<52:38, 28.20s/it]"
     ]
    },
    {
     "data": {
      "application/vnd.jupyter.widget-view+json": {
       "model_id": "35db1bd06e3d419da5ab7be1d911ecec",
       "version_major": 2,
       "version_minor": 0
      },
      "text/plain": [
       "FloatProgress(value=0.0, layout=Layout(width='auto'), style=ProgressStyle(bar_color='black'))"
      ]
     },
     "metadata": {},
     "output_type": "display_data"
    },
    {
     "name": "stderr",
     "output_type": "stream",
     "text": [
      " 15%|█▌        | 20/131 [10:07<58:11, 31.46s/it]"
     ]
    },
    {
     "data": {
      "application/vnd.jupyter.widget-view+json": {
       "model_id": "0c85d9622e62446c93418128f491cfaa",
       "version_major": 2,
       "version_minor": 0
      },
      "text/plain": [
       "FloatProgress(value=0.0, layout=Layout(width='auto'), style=ProgressStyle(bar_color='black'))"
      ]
     },
     "metadata": {},
     "output_type": "display_data"
    },
    {
     "name": "stderr",
     "output_type": "stream",
     "text": [
      " 16%|█▌        | 21/131 [10:38<57:14, 31.22s/it]"
     ]
    },
    {
     "data": {
      "application/vnd.jupyter.widget-view+json": {
       "model_id": "123f389e129841538605d539f509a951",
       "version_major": 2,
       "version_minor": 0
      },
      "text/plain": [
       "FloatProgress(value=0.0, layout=Layout(width='auto'), style=ProgressStyle(bar_color='black'))"
      ]
     },
     "metadata": {},
     "output_type": "display_data"
    },
    {
     "name": "stderr",
     "output_type": "stream",
     "text": [
      " 17%|█▋        | 22/131 [11:16<1:00:50, 33.49s/it]"
     ]
    },
    {
     "data": {
      "application/vnd.jupyter.widget-view+json": {
       "model_id": "8d7fcfb088324c7bbce6cc4a8a50d55f",
       "version_major": 2,
       "version_minor": 0
      },
      "text/plain": [
       "FloatProgress(value=0.0, layout=Layout(width='auto'), style=ProgressStyle(bar_color='black'))"
      ]
     },
     "metadata": {},
     "output_type": "display_data"
    },
    {
     "name": "stderr",
     "output_type": "stream",
     "text": [
      " 18%|█▊        | 23/131 [11:54<1:02:38, 34.80s/it]"
     ]
    },
    {
     "data": {
      "application/vnd.jupyter.widget-view+json": {
       "model_id": "d822ed711b574c2cbb52fe17b5cc4c89",
       "version_major": 2,
       "version_minor": 0
      },
      "text/plain": [
       "FloatProgress(value=0.0, layout=Layout(width='auto'), style=ProgressStyle(bar_color='black'))"
      ]
     },
     "metadata": {},
     "output_type": "display_data"
    },
    {
     "name": "stderr",
     "output_type": "stream",
     "text": [
      " 18%|█▊        | 24/131 [12:24<59:16, 33.23s/it]  "
     ]
    },
    {
     "data": {
      "application/vnd.jupyter.widget-view+json": {
       "model_id": "cae38026abdc442588b6093fe62fc501",
       "version_major": 2,
       "version_minor": 0
      },
      "text/plain": [
       "FloatProgress(value=0.0, layout=Layout(width='auto'), style=ProgressStyle(bar_color='black'))"
      ]
     },
     "metadata": {},
     "output_type": "display_data"
    },
    {
     "name": "stderr",
     "output_type": "stream",
     "text": [
      " 19%|█▉        | 25/131 [13:01<1:00:45, 34.39s/it]"
     ]
    },
    {
     "data": {
      "application/vnd.jupyter.widget-view+json": {
       "model_id": "c4e2440dce714f75aa3aafb21f0f1e6a",
       "version_major": 2,
       "version_minor": 0
      },
      "text/plain": [
       "FloatProgress(value=0.0, layout=Layout(width='auto'), style=ProgressStyle(bar_color='black'))"
      ]
     },
     "metadata": {},
     "output_type": "display_data"
    },
    {
     "name": "stderr",
     "output_type": "stream",
     "text": [
      " 20%|█▉        | 26/131 [13:30<57:13, 32.70s/it]  "
     ]
    },
    {
     "data": {
      "application/vnd.jupyter.widget-view+json": {
       "model_id": "c684bc3a924045feb60f9f4517564de9",
       "version_major": 2,
       "version_minor": 0
      },
      "text/plain": [
       "FloatProgress(value=0.0, layout=Layout(width='auto'), style=ProgressStyle(bar_color='black'))"
      ]
     },
     "metadata": {},
     "output_type": "display_data"
    },
    {
     "name": "stderr",
     "output_type": "stream",
     "text": [
      " 21%|██        | 27/131 [13:58<54:33, 31.48s/it]"
     ]
    },
    {
     "data": {
      "application/vnd.jupyter.widget-view+json": {
       "model_id": "33ed8d376a774b77903e98fd5ddfe99b",
       "version_major": 2,
       "version_minor": 0
      },
      "text/plain": [
       "FloatProgress(value=0.0, layout=Layout(width='auto'), style=ProgressStyle(bar_color='black'))"
      ]
     },
     "metadata": {},
     "output_type": "display_data"
    },
    {
     "name": "stderr",
     "output_type": "stream",
     "text": [
      " 21%|██▏       | 28/131 [14:27<52:37, 30.66s/it]"
     ]
    },
    {
     "data": {
      "application/vnd.jupyter.widget-view+json": {
       "model_id": "f1a2e4212b4a4c66ac10f819de11c3c0",
       "version_major": 2,
       "version_minor": 0
      },
      "text/plain": [
       "FloatProgress(value=0.0, layout=Layout(width='auto'), style=ProgressStyle(bar_color='black'))"
      ]
     },
     "metadata": {},
     "output_type": "display_data"
    },
    {
     "name": "stderr",
     "output_type": "stream",
     "text": [
      " 22%|██▏       | 29/131 [14:56<51:02, 30.03s/it]"
     ]
    },
    {
     "data": {
      "application/vnd.jupyter.widget-view+json": {
       "model_id": "c544b5742d784d5aa4172098964b8383",
       "version_major": 2,
       "version_minor": 0
      },
      "text/plain": [
       "FloatProgress(value=0.0, layout=Layout(width='auto'), style=ProgressStyle(bar_color='black'))"
      ]
     },
     "metadata": {},
     "output_type": "display_data"
    },
    {
     "name": "stderr",
     "output_type": "stream",
     "text": [
      " 23%|██▎       | 30/131 [15:25<50:10, 29.80s/it]"
     ]
    },
    {
     "data": {
      "application/vnd.jupyter.widget-view+json": {
       "model_id": "91876bf4fc2546658b3155425d310e8a",
       "version_major": 2,
       "version_minor": 0
      },
      "text/plain": [
       "FloatProgress(value=0.0, layout=Layout(width='auto'), style=ProgressStyle(bar_color='black'))"
      ]
     },
     "metadata": {},
     "output_type": "display_data"
    },
    {
     "name": "stderr",
     "output_type": "stream",
     "text": [
      " 24%|██▎       | 31/131 [15:58<51:18, 30.78s/it]"
     ]
    },
    {
     "data": {
      "application/vnd.jupyter.widget-view+json": {
       "model_id": "a828fc3b5c894a2eb1f87741e0a0e546",
       "version_major": 2,
       "version_minor": 0
      },
      "text/plain": [
       "FloatProgress(value=0.0, layout=Layout(width='auto'), style=ProgressStyle(bar_color='black'))"
      ]
     },
     "metadata": {},
     "output_type": "display_data"
    },
    {
     "name": "stderr",
     "output_type": "stream",
     "text": [
      " 24%|██▍       | 32/131 [16:26<49:28, 29.99s/it]"
     ]
    },
    {
     "data": {
      "application/vnd.jupyter.widget-view+json": {
       "model_id": "0ded4b8294964f44a95df27179587898",
       "version_major": 2,
       "version_minor": 0
      },
      "text/plain": [
       "FloatProgress(value=0.0, layout=Layout(width='auto'), style=ProgressStyle(bar_color='black'))"
      ]
     },
     "metadata": {},
     "output_type": "display_data"
    },
    {
     "name": "stderr",
     "output_type": "stream",
     "text": [
      " 25%|██▌       | 33/131 [16:54<48:05, 29.44s/it]"
     ]
    },
    {
     "data": {
      "application/vnd.jupyter.widget-view+json": {
       "model_id": "3088855de0c24c1a95a5ca40c86027e6",
       "version_major": 2,
       "version_minor": 0
      },
      "text/plain": [
       "FloatProgress(value=0.0, layout=Layout(width='auto'), style=ProgressStyle(bar_color='black'))"
      ]
     },
     "metadata": {},
     "output_type": "display_data"
    },
    {
     "name": "stderr",
     "output_type": "stream",
     "text": [
      " 26%|██▌       | 34/131 [17:22<47:03, 29.11s/it]"
     ]
    },
    {
     "data": {
      "application/vnd.jupyter.widget-view+json": {
       "model_id": "8e71060187b647d9b6a70600bf211a08",
       "version_major": 2,
       "version_minor": 0
      },
      "text/plain": [
       "FloatProgress(value=0.0, layout=Layout(width='auto'), style=ProgressStyle(bar_color='black'))"
      ]
     },
     "metadata": {},
     "output_type": "display_data"
    },
    {
     "name": "stderr",
     "output_type": "stream",
     "text": [
      " 27%|██▋       | 35/131 [17:57<49:23, 30.87s/it]"
     ]
    },
    {
     "data": {
      "application/vnd.jupyter.widget-view+json": {
       "model_id": "a3243ac771524f76a2a585dba778b419",
       "version_major": 2,
       "version_minor": 0
      },
      "text/plain": [
       "FloatProgress(value=0.0, layout=Layout(width='auto'), style=ProgressStyle(bar_color='black'))"
      ]
     },
     "metadata": {},
     "output_type": "display_data"
    },
    {
     "name": "stderr",
     "output_type": "stream",
     "text": [
      " 27%|██▋       | 36/131 [18:26<47:55, 30.27s/it]"
     ]
    },
    {
     "data": {
      "application/vnd.jupyter.widget-view+json": {
       "model_id": "67c8a5b0e5074d358e4d24ef9fc66514",
       "version_major": 2,
       "version_minor": 0
      },
      "text/plain": [
       "FloatProgress(value=0.0, layout=Layout(width='auto'), style=ProgressStyle(bar_color='black'))"
      ]
     },
     "metadata": {},
     "output_type": "display_data"
    },
    {
     "name": "stderr",
     "output_type": "stream",
     "text": [
      " 28%|██▊       | 37/131 [19:03<50:31, 32.26s/it]"
     ]
    },
    {
     "data": {
      "application/vnd.jupyter.widget-view+json": {
       "model_id": "c5e337910466426b8ab96c3ef3ddf93b",
       "version_major": 2,
       "version_minor": 0
      },
      "text/plain": [
       "FloatProgress(value=0.0, layout=Layout(width='auto'), style=ProgressStyle(bar_color='black'))"
      ]
     },
     "metadata": {},
     "output_type": "display_data"
    },
    {
     "name": "stderr",
     "output_type": "stream",
     "text": [
      " 29%|██▉       | 38/131 [19:30<47:27, 30.61s/it]"
     ]
    },
    {
     "data": {
      "application/vnd.jupyter.widget-view+json": {
       "model_id": "8007dcf74aa44e4491b529adc9534aeb",
       "version_major": 2,
       "version_minor": 0
      },
      "text/plain": [
       "FloatProgress(value=0.0, layout=Layout(width='auto'), style=ProgressStyle(bar_color='black'))"
      ]
     },
     "metadata": {},
     "output_type": "display_data"
    },
    {
     "name": "stderr",
     "output_type": "stream",
     "text": [
      " 30%|██▉       | 39/131 [19:58<45:47, 29.87s/it]"
     ]
    },
    {
     "data": {
      "application/vnd.jupyter.widget-view+json": {
       "model_id": "805321f1430b4821b23e34d5b684f266",
       "version_major": 2,
       "version_minor": 0
      },
      "text/plain": [
       "FloatProgress(value=0.0, layout=Layout(width='auto'), style=ProgressStyle(bar_color='black'))"
      ]
     },
     "metadata": {},
     "output_type": "display_data"
    },
    {
     "name": "stderr",
     "output_type": "stream",
     "text": [
      " 31%|███       | 40/131 [20:27<44:40, 29.46s/it]"
     ]
    },
    {
     "data": {
      "application/vnd.jupyter.widget-view+json": {
       "model_id": "2271331e1ad04cc5a85d7b31ad3ae582",
       "version_major": 2,
       "version_minor": 0
      },
      "text/plain": [
       "FloatProgress(value=0.0, layout=Layout(width='auto'), style=ProgressStyle(bar_color='black'))"
      ]
     },
     "metadata": {},
     "output_type": "display_data"
    },
    {
     "name": "stderr",
     "output_type": "stream",
     "text": [
      " 31%|███▏      | 41/131 [20:55<43:43, 29.15s/it]"
     ]
    },
    {
     "data": {
      "application/vnd.jupyter.widget-view+json": {
       "model_id": "56def88e10c34ab788a6ffeac9a76434",
       "version_major": 2,
       "version_minor": 0
      },
      "text/plain": [
       "FloatProgress(value=0.0, layout=Layout(width='auto'), style=ProgressStyle(bar_color='black'))"
      ]
     },
     "metadata": {},
     "output_type": "display_data"
    },
    {
     "name": "stderr",
     "output_type": "stream",
     "text": [
      " 32%|███▏      | 42/131 [21:23<42:41, 28.78s/it]"
     ]
    },
    {
     "data": {
      "application/vnd.jupyter.widget-view+json": {
       "model_id": "f2cc2d8ad5ce42f6bab9fc53598c018d",
       "version_major": 2,
       "version_minor": 0
      },
      "text/plain": [
       "FloatProgress(value=0.0, layout=Layout(width='auto'), style=ProgressStyle(bar_color='black'))"
      ]
     },
     "metadata": {},
     "output_type": "display_data"
    },
    {
     "name": "stderr",
     "output_type": "stream",
     "text": [
      " 33%|███▎      | 43/131 [21:56<43:51, 29.90s/it]"
     ]
    },
    {
     "data": {
      "application/vnd.jupyter.widget-view+json": {
       "model_id": "d05e0ca0d7344e2b95006a17d1b7c0d3",
       "version_major": 2,
       "version_minor": 0
      },
      "text/plain": [
       "FloatProgress(value=0.0, layout=Layout(width='auto'), style=ProgressStyle(bar_color='black'))"
      ]
     },
     "metadata": {},
     "output_type": "display_data"
    },
    {
     "name": "stderr",
     "output_type": "stream",
     "text": [
      " 34%|███▎      | 44/131 [22:35<47:23, 32.68s/it]"
     ]
    },
    {
     "data": {
      "application/vnd.jupyter.widget-view+json": {
       "model_id": "34e3affab3b1414da4aff615bb514cf6",
       "version_major": 2,
       "version_minor": 0
      },
      "text/plain": [
       "FloatProgress(value=0.0, layout=Layout(width='auto'), style=ProgressStyle(bar_color='black'))"
      ]
     },
     "metadata": {},
     "output_type": "display_data"
    },
    {
     "name": "stderr",
     "output_type": "stream",
     "text": [
      " 34%|███▍      | 45/131 [23:09<47:44, 33.31s/it]"
     ]
    },
    {
     "data": {
      "application/vnd.jupyter.widget-view+json": {
       "model_id": "e9ba82677019463688cddf147a5da20f",
       "version_major": 2,
       "version_minor": 0
      },
      "text/plain": [
       "FloatProgress(value=0.0, layout=Layout(width='auto'), style=ProgressStyle(bar_color='black'))"
      ]
     },
     "metadata": {},
     "output_type": "display_data"
    },
    {
     "name": "stderr",
     "output_type": "stream",
     "text": [
      " 35%|███▌      | 46/131 [23:36<44:08, 31.16s/it]"
     ]
    },
    {
     "data": {
      "application/vnd.jupyter.widget-view+json": {
       "model_id": "a20ef3253ebd4e24926d60f6338c8f62",
       "version_major": 2,
       "version_minor": 0
      },
      "text/plain": [
       "FloatProgress(value=0.0, layout=Layout(width='auto'), style=ProgressStyle(bar_color='black'))"
      ]
     },
     "metadata": {},
     "output_type": "display_data"
    },
    {
     "name": "stderr",
     "output_type": "stream",
     "text": [
      " 36%|███▌      | 47/131 [24:05<42:45, 30.54s/it]"
     ]
    },
    {
     "data": {
      "application/vnd.jupyter.widget-view+json": {
       "model_id": "9ba61917e4354617b72c19299d913b1e",
       "version_major": 2,
       "version_minor": 0
      },
      "text/plain": [
       "FloatProgress(value=0.0, layout=Layout(width='auto'), style=ProgressStyle(bar_color='black'))"
      ]
     },
     "metadata": {},
     "output_type": "display_data"
    },
    {
     "name": "stderr",
     "output_type": "stream",
     "text": [
      " 37%|███▋      | 48/131 [24:35<42:13, 30.53s/it]"
     ]
    },
    {
     "data": {
      "application/vnd.jupyter.widget-view+json": {
       "model_id": "7bdb76972d7842959bf1350d7f6a1b77",
       "version_major": 2,
       "version_minor": 0
      },
      "text/plain": [
       "FloatProgress(value=0.0, layout=Layout(width='auto'), style=ProgressStyle(bar_color='black'))"
      ]
     },
     "metadata": {},
     "output_type": "display_data"
    },
    {
     "name": "stderr",
     "output_type": "stream",
     "text": [
      " 37%|███▋      | 49/131 [25:05<41:37, 30.46s/it]"
     ]
    },
    {
     "data": {
      "application/vnd.jupyter.widget-view+json": {
       "model_id": "952ffb0162aa449fa664accb92761c12",
       "version_major": 2,
       "version_minor": 0
      },
      "text/plain": [
       "FloatProgress(value=0.0, layout=Layout(width='auto'), style=ProgressStyle(bar_color='black'))"
      ]
     },
     "metadata": {},
     "output_type": "display_data"
    },
    {
     "name": "stderr",
     "output_type": "stream",
     "text": [
      " 38%|███▊      | 50/131 [25:37<41:38, 30.84s/it]"
     ]
    },
    {
     "data": {
      "application/vnd.jupyter.widget-view+json": {
       "model_id": "803c18083f594f0ea6864281b095be2d",
       "version_major": 2,
       "version_minor": 0
      },
      "text/plain": [
       "FloatProgress(value=0.0, layout=Layout(width='auto'), style=ProgressStyle(bar_color='black'))"
      ]
     },
     "metadata": {},
     "output_type": "display_data"
    },
    {
     "name": "stderr",
     "output_type": "stream",
     "text": [
      " 39%|███▉      | 51/131 [26:06<40:29, 30.37s/it]"
     ]
    },
    {
     "data": {
      "application/vnd.jupyter.widget-view+json": {
       "model_id": "04e399eddc32423ebbfa3f1466827239",
       "version_major": 2,
       "version_minor": 0
      },
      "text/plain": [
       "FloatProgress(value=0.0, layout=Layout(width='auto'), style=ProgressStyle(bar_color='black'))"
      ]
     },
     "metadata": {},
     "output_type": "display_data"
    },
    {
     "name": "stderr",
     "output_type": "stream",
     "text": [
      " 40%|███▉      | 52/131 [26:48<44:18, 33.66s/it]"
     ]
    },
    {
     "data": {
      "application/vnd.jupyter.widget-view+json": {
       "model_id": "b17fb036a45141c7862d227e1adcacde",
       "version_major": 2,
       "version_minor": 0
      },
      "text/plain": [
       "FloatProgress(value=0.0, layout=Layout(width='auto'), style=ProgressStyle(bar_color='black'))"
      ]
     },
     "metadata": {},
     "output_type": "display_data"
    },
    {
     "name": "stderr",
     "output_type": "stream",
     "text": [
      " 40%|████      | 53/131 [27:17<42:03, 32.35s/it]"
     ]
    },
    {
     "data": {
      "application/vnd.jupyter.widget-view+json": {
       "model_id": "4fa6f8f9eb254311b78b04315de591d3",
       "version_major": 2,
       "version_minor": 0
      },
      "text/plain": [
       "FloatProgress(value=0.0, layout=Layout(width='auto'), style=ProgressStyle(bar_color='black'))"
      ]
     },
     "metadata": {},
     "output_type": "display_data"
    },
    {
     "name": "stderr",
     "output_type": "stream",
     "text": [
      " 41%|████      | 54/131 [27:47<40:32, 31.59s/it]"
     ]
    },
    {
     "data": {
      "application/vnd.jupyter.widget-view+json": {
       "model_id": "80fca48c602d4682bd751b56d25f35dc",
       "version_major": 2,
       "version_minor": 0
      },
      "text/plain": [
       "FloatProgress(value=0.0, layout=Layout(width='auto'), style=ProgressStyle(bar_color='black'))"
      ]
     },
     "metadata": {},
     "output_type": "display_data"
    },
    {
     "name": "stderr",
     "output_type": "stream",
     "text": [
      " 42%|████▏     | 55/131 [28:17<39:31, 31.20s/it]"
     ]
    },
    {
     "data": {
      "application/vnd.jupyter.widget-view+json": {
       "model_id": "a203029ab3b443f1925033aed6387502",
       "version_major": 2,
       "version_minor": 0
      },
      "text/plain": [
       "FloatProgress(value=0.0, layout=Layout(width='auto'), style=ProgressStyle(bar_color='black'))"
      ]
     },
     "metadata": {},
     "output_type": "display_data"
    },
    {
     "name": "stderr",
     "output_type": "stream",
     "text": [
      " 43%|████▎     | 56/131 [28:46<37:54, 30.33s/it]"
     ]
    },
    {
     "data": {
      "application/vnd.jupyter.widget-view+json": {
       "model_id": "bd67dd857d69477181703f32d9edeb51",
       "version_major": 2,
       "version_minor": 0
      },
      "text/plain": [
       "FloatProgress(value=0.0, layout=Layout(width='auto'), style=ProgressStyle(bar_color='black'))"
      ]
     },
     "metadata": {},
     "output_type": "display_data"
    },
    {
     "name": "stderr",
     "output_type": "stream",
     "text": [
      " 44%|████▎     | 57/131 [29:23<40:13, 32.62s/it]"
     ]
    },
    {
     "data": {
      "application/vnd.jupyter.widget-view+json": {
       "model_id": "1dfb305d309442df82531ff63a69ca46",
       "version_major": 2,
       "version_minor": 0
      },
      "text/plain": [
       "FloatProgress(value=0.0, layout=Layout(width='auto'), style=ProgressStyle(bar_color='black'))"
      ]
     },
     "metadata": {},
     "output_type": "display_data"
    },
    {
     "name": "stderr",
     "output_type": "stream",
     "text": [
      " 44%|████▍     | 58/131 [29:59<40:49, 33.55s/it]"
     ]
    },
    {
     "data": {
      "application/vnd.jupyter.widget-view+json": {
       "model_id": "084ed0dacbfb41fc985995e49f52a7b0",
       "version_major": 2,
       "version_minor": 0
      },
      "text/plain": [
       "FloatProgress(value=0.0, layout=Layout(width='auto'), style=ProgressStyle(bar_color='black'))"
      ]
     },
     "metadata": {},
     "output_type": "display_data"
    },
    {
     "name": "stderr",
     "output_type": "stream",
     "text": [
      " 45%|████▌     | 59/131 [30:31<39:27, 32.88s/it]"
     ]
    },
    {
     "data": {
      "application/vnd.jupyter.widget-view+json": {
       "model_id": "4bae64e58c944a1ebc542a316eb9c25f",
       "version_major": 2,
       "version_minor": 0
      },
      "text/plain": [
       "FloatProgress(value=0.0, layout=Layout(width='auto'), style=ProgressStyle(bar_color='black'))"
      ]
     },
     "metadata": {},
     "output_type": "display_data"
    },
    {
     "name": "stderr",
     "output_type": "stream",
     "text": [
      " 46%|████▌     | 60/131 [30:59<37:21, 31.56s/it]"
     ]
    },
    {
     "data": {
      "application/vnd.jupyter.widget-view+json": {
       "model_id": "0855e5e2980f48f8b84d15dec81e2e43",
       "version_major": 2,
       "version_minor": 0
      },
      "text/plain": [
       "FloatProgress(value=0.0, layout=Layout(width='auto'), style=ProgressStyle(bar_color='black'))"
      ]
     },
     "metadata": {},
     "output_type": "display_data"
    },
    {
     "name": "stderr",
     "output_type": "stream",
     "text": [
      " 47%|████▋     | 61/131 [31:27<35:39, 30.56s/it]"
     ]
    },
    {
     "data": {
      "application/vnd.jupyter.widget-view+json": {
       "model_id": "5c53de28c86a4ad485743fbb365f5c4c",
       "version_major": 2,
       "version_minor": 0
      },
      "text/plain": [
       "FloatProgress(value=0.0, layout=Layout(width='auto'), style=ProgressStyle(bar_color='black'))"
      ]
     },
     "metadata": {},
     "output_type": "display_data"
    },
    {
     "name": "stderr",
     "output_type": "stream",
     "text": [
      " 47%|████▋     | 62/131 [31:55<34:15, 29.78s/it]"
     ]
    },
    {
     "data": {
      "application/vnd.jupyter.widget-view+json": {
       "model_id": "a6b22ebdcc0c45739910ed241813f308",
       "version_major": 2,
       "version_minor": 0
      },
      "text/plain": [
       "FloatProgress(value=0.0, layout=Layout(width='auto'), style=ProgressStyle(bar_color='black'))"
      ]
     },
     "metadata": {},
     "output_type": "display_data"
    },
    {
     "name": "stderr",
     "output_type": "stream",
     "text": [
      " 48%|████▊     | 63/131 [32:23<32:57, 29.08s/it]"
     ]
    },
    {
     "data": {
      "application/vnd.jupyter.widget-view+json": {
       "model_id": "9ae9fa461d9245e5a3fe6332c71aa33f",
       "version_major": 2,
       "version_minor": 0
      },
      "text/plain": [
       "FloatProgress(value=0.0, layout=Layout(width='auto'), style=ProgressStyle(bar_color='black'))"
      ]
     },
     "metadata": {},
     "output_type": "display_data"
    },
    {
     "name": "stderr",
     "output_type": "stream",
     "text": [
      " 49%|████▉     | 64/131 [32:52<32:26, 29.05s/it]"
     ]
    }
   ],
   "source": [
    "buildings = con.read_parquet('buildings_pk.parquet')\n",
    "\n",
    "for row in tqdm.tqdm(rois_hand_df.values):\n",
    "    os.makedirs(f\"building_density_avg_at_res_{RES}\", exist_ok=True)\n",
    "    geom_wkt = row[0]\n",
    "    file_path_from_json = os.path.join(\"hand_cogs\", os.path.basename(row[1].split(\"/\")[-1]))\n",
    "    file_path = f\"building_density_avg_at_res_{RES}/building_density_{os.path.splitext(os.path.basename(file_path_from_json))[0]}_{RES}.parquet\"\n",
    "    if not os.path.exists(file_path):\n",
    "        building_rois = buildings.filter(f\"ST_Intersects(geometry, ST_GeomFromText('{geom_wkt}'))\")\n",
    "        building_density = (building_rois\n",
    "            .select(duckdb.SQLExpression(\"ST_Centroid(geometry)\").alias(\"centroid\"))\n",
    "            .select(duckdb.SQLExpression(f\"h3_latlng_to_cell_string(ST_Y(centroid), ST_X(centroid), {RES})\").alias(\"h3_cell\"))\n",
    "        )\n",
    "\n",
    "        building_density = con.sql(\"\"\"\n",
    "                SELECT \n",
    "                        h3_cell, \n",
    "                        COUNT(*) as building_count,\n",
    "                        h3_cell_to_boundary_wkt(h3_cell) as h3_cell_boundary_wkt,\n",
    "                        ST_AsText(ST_POINT(h3_cell_to_lng(h3_cell), h3_cell_to_lat(h3_cell))) as centroid_wkt\n",
    "                FROM building_density GROUP BY h3_cell\n",
    "        \"\"\")\n",
    "        building_density_df = building_density.df()\n",
    "        building_density_df[\"h3_cell_boundary\"] = building_density_df[\"h3_cell_boundary_wkt\"].apply(shapely.wkt.loads)\n",
    "\n",
    "        def query_points_batch(geoms):\n",
    "            return zonal_stats(geoms, file_path_from_json)\n",
    "\n",
    "        batch_size = 1000\n",
    "        results = []\n",
    "        with ThreadPoolExecutor() as executor:\n",
    "            batches = [building_density_df[\"h3_cell_boundary\"][i:i+batch_size] for i in range(0, len(building_density_df), batch_size)]\n",
    "            batch_results = list(executor.map(query_points_batch, batches))\n",
    "            for res in batch_results:\n",
    "                results.extend(res)\n",
    "        building_density_df = pd.concat([building_density_df, pd.DataFrame(results)], axis=1)\n",
    "        building_density_df.drop(\"h3_cell_boundary\", axis=1).to_parquet(file_path, index=False)"
   ]
  },
  {
   "cell_type": "code",
   "execution_count": null,
   "id": "76536fb0",
   "metadata": {},
   "outputs": [],
   "source": [
    "# Use DuckDB to read and concatenate all parquet files and write to a single parquet file\n",
    "if not os.path.exists(f'merged_res_{RES}.parquet'):\n",
    "    con.sql(f\"\"\"\n",
    "        COPY (SELECT * FROM read_parquet('building_density_avg_at_res_{RES}/building_density_*.parquet', union_by_name=True)) \n",
    "        TO 'merged_res_avg_{RES}.parquet' (FORMAT 'parquet')\n",
    "    \"\"\")"
   ]
  },
  {
   "cell_type": "code",
   "execution_count": null,
   "id": "7e581206",
   "metadata": {},
   "outputs": [],
   "source": [
    "map_config = {'version': 'v1',\n",
    " 'config': {'visState': {'filters': [],\n",
    "   'layers': [{'id': 'pk7kxsk',\n",
    "     'type': 'hexagonId',\n",
    "     'config': {'dataId': 'building density',\n",
    "      'label': 'building density',\n",
    "      'color': [34, 63, 154],\n",
    "      'highlightColor': [252, 242, 26, 255],\n",
    "      'columns': {'hex_id': 'h3_cell'},\n",
    "      'isVisible': True,\n",
    "      'visConfig': {'colorRange': {'name': 'Global Warming',\n",
    "        'type': 'sequential',\n",
    "        'category': 'Uber',\n",
    "        'colors': ['#FFC300',\n",
    "         '#F1920E',\n",
    "         '#E3611C',\n",
    "         '#C70039',\n",
    "         '#900C3F',\n",
    "         '#5A1846'],\n",
    "        'reversed': True},\n",
    "       'filled': True,\n",
    "       'opacity': 0.8,\n",
    "       'outline': False,\n",
    "       'strokeColor': None,\n",
    "       'strokeColorRange': {'name': 'Global Warming',\n",
    "        'type': 'sequential',\n",
    "        'category': 'Uber',\n",
    "        'colors': ['#5A1846',\n",
    "         '#900C3F',\n",
    "         '#C70039',\n",
    "         '#E3611C',\n",
    "         '#F1920E',\n",
    "         '#FFC300']},\n",
    "       'strokeOpacity': 0.8,\n",
    "       'thickness': 2,\n",
    "       'coverage': 1,\n",
    "       'enable3d': True,\n",
    "       'sizeRange': [0, 500],\n",
    "       'coverageRange': [0, 1],\n",
    "       'elevationScale': 5,\n",
    "       'enableElevationZoomFactor': True},\n",
    "      'hidden': False,\n",
    "      'textLabel': [{'field': None,\n",
    "        'color': [255, 255, 255],\n",
    "        'size': 18,\n",
    "        'offset': [0, 0],\n",
    "        'anchor': 'middle',\n",
    "        'alignment': 'center',\n",
    "        'outlineWidth': 0,\n",
    "        'outlineColor': [255, 0, 0, 255],\n",
    "        'background': False,\n",
    "        'backgroundColor': [0, 0, 200, 255]}]},\n",
    "     'visualChannels': {'colorField': {'name': 'mean', 'type': 'real'},\n",
    "      'colorScale': 'quantile',\n",
    "      'strokeColorField': None,\n",
    "      'strokeColorScale': 'quantile',\n",
    "      'sizeField': {'name': 'building_count', 'type': 'integer'},\n",
    "      'sizeScale': 'linear',\n",
    "      'coverageField': None,\n",
    "      'coverageScale': 'linear'}}],\n",
    "   'effects': [],\n",
    "   'interactionConfig': {'tooltip': {'fieldsToShow': {'building density': [{'name': 'h3_cell',\n",
    "        'format': None},\n",
    "       {'name': 'building_count', 'format': None},\n",
    "       {'name': 'mean', 'format': None}]},\n",
    "     'compareMode': False,\n",
    "     'compareType': 'absolute',\n",
    "     'enabled': True},\n",
    "    'brush': {'size': 0.5, 'enabled': False},\n",
    "    'geocoder': {'enabled': False},\n",
    "    'coordinate': {'enabled': False}},\n",
    "   'layerBlending': 'normal',\n",
    "   'overlayBlending': 'normal',\n",
    "   'splitMaps': [],\n",
    "   'animationConfig': {'currentTime': None, 'speed': 1},\n",
    "   'editor': {'features': [], 'visible': True}},\n",
    "  'mapState': {'bearing': 24,\n",
    "   'dragRotate': True,\n",
    "   'latitude': 30.531893616040605,\n",
    "   'longitude': 70.01893558941872,\n",
    "   'pitch': 50,\n",
    "   'zoom': 6.795093380133405,\n",
    "   'isSplit': False,\n",
    "   'isViewportSynced': True,\n",
    "   'isZoomLocked': False,\n",
    "   'splitMapViewports': []},\n",
    "  'mapStyle': {'styleType': 'dark-matter',\n",
    "   'topLayerGroups': {},\n",
    "   'visibleLayerGroups': {'label': True,\n",
    "    'road': True,\n",
    "    'border': False,\n",
    "    'building': True,\n",
    "    'water': True,\n",
    "    'land': True,\n",
    "    '3d building': False},\n",
    "   'threeDBuildingColor': [15.035172933000911,\n",
    "    15.035172933000911,\n",
    "    15.035172933000911],\n",
    "   'backgroundColor': [0, 0, 0],\n",
    "   'mapStyles': {}}}}"
   ]
  },
  {
   "cell_type": "code",
   "execution_count": null,
   "id": "f18b48d9",
   "metadata": {},
   "outputs": [],
   "source": [
    "# this will blow at higher resolutions - for those its better to load individual parquet files then merged ones\n",
    "map_4 = KeplerGl(height=600)\n",
    "map_4.add_data(data=con.read_parquet(f'merged_res_avg_{RES}.parquet').df(), name=\"building density\")\n",
    "map_4.config = map_config\n",
    "map_4"
   ]
  },
  {
   "cell_type": "code",
   "execution_count": null,
   "id": "3bdd5a2e",
   "metadata": {},
   "outputs": [],
   "source": [
    "map_4.save_to_html(file_name=f\"map_at_res_{RES}.html\")"
   ]
  },
  {
   "cell_type": "code",
   "execution_count": null,
   "id": "f559cd16",
   "metadata": {},
   "outputs": [],
   "source": []
  }
 ],
 "metadata": {
  "kernelspec": {
   "display_name": "env_analysis",
   "language": "python",
   "name": "python3"
  },
  "language_info": {
   "codemirror_mode": {
    "name": "ipython",
    "version": 3
   },
   "file_extension": ".py",
   "mimetype": "text/x-python",
   "name": "python",
   "nbconvert_exporter": "python",
   "pygments_lexer": "ipython3",
   "version": "3.11.13"
  }
 },
 "nbformat": 4,
 "nbformat_minor": 5
}
